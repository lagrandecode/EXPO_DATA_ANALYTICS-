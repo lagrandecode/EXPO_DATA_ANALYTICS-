{
 "cells": [
  {
   "cell_type": "markdown",
   "metadata": {
    "id": "bRxmqZOhWY87"
   },
   "source": [
    "# Python Beginners Tutorial\n",
    "\n"
   ]
  },
  {
   "cell_type": "markdown",
   "metadata": {
    "id": "zimA9OEsXOLW"
   },
   "source": [
    "### Let's start with Simple Variables\n",
    "\n",
    "**Variables** can be considered a container that holds or stores a peice of **information** from numbers to text. \n"
   ]
  },
  {
   "cell_type": "code",
   "execution_count": null,
   "metadata": {
    "colab": {
     "base_uri": "https://localhost:8080/",
     "height": 35
    },
    "id": "pV1YfnLSXOq6",
    "outputId": "c1819c2d-d7cd-4b4c-cbd8-00d7f6949c3b"
   },
   "outputs": [
    {
     "name": "stdout",
     "output_type": "stream",
     "text": [
      "14\n"
     ]
    }
   ],
   "source": [
    "# Storing a number\n",
    "a = 14\n",
    "print(a)"
   ]
  },
  {
   "cell_type": "code",
   "execution_count": null,
   "metadata": {
    "colab": {
     "base_uri": "https://localhost:8080/",
     "height": 35
    },
    "id": "DkD4O1acWix8",
    "outputId": "346b16f3-c041-443b-f729-4612a055208c"
   },
   "outputs": [
    {
     "name": "stdout",
     "output_type": "stream",
     "text": [
      "This is some text\n"
     ]
    }
   ],
   "source": [
    "# Or text\n",
    "b = \"This is some text\"\n",
    "print(b)"
   ]
  },
  {
   "cell_type": "markdown",
   "metadata": {
    "id": "R0QT0wxIXggf"
   },
   "source": [
    "### What can we do with variables?"
   ]
  },
  {
   "cell_type": "code",
   "execution_count": null,
   "metadata": {
    "colab": {
     "base_uri": "https://localhost:8080/",
     "height": 35
    },
    "id": "eEqpciAiXjCZ",
    "outputId": "58d8e7c8-e6b3-42dd-e30f-29ac0ae9bb11"
   },
   "outputs": [
    {
     "name": "stdout",
     "output_type": "stream",
     "text": [
      "17\n"
     ]
    }
   ],
   "source": [
    "# Let's add them together\n",
    "a = 14\n",
    "c = 3\n",
    "d = a + c\n",
    "print(d)"
   ]
  },
  {
   "cell_type": "code",
   "execution_count": null,
   "metadata": {
    "colab": {
     "base_uri": "https://localhost:8080/",
     "height": 35
    },
    "id": "d9w3MZg-XMqt",
    "outputId": "312d09d4-84c7-4221-ebc9-23a4c3499753"
   },
   "outputs": [
    {
     "name": "stdout",
     "output_type": "stream",
     "text": [
      "17\n"
     ]
    }
   ],
   "source": [
    "# Or\n",
    "print(a+c)"
   ]
  },
  {
   "cell_type": "code",
   "execution_count": null,
   "metadata": {
    "colab": {
     "base_uri": "https://localhost:8080/",
     "height": 35
    },
    "id": "pPUxe1beWcDX",
    "outputId": "9116efba-cbeb-407b-ff3f-bf0de92ade42"
   },
   "outputs": [
    {
     "name": "stdout",
     "output_type": "stream",
     "text": [
      "18\n"
     ]
    }
   ],
   "source": [
    "# Can we change variable values?\n",
    "a = 18\n",
    "print(a)"
   ]
  },
  {
   "cell_type": "code",
   "execution_count": null,
   "metadata": {
    "colab": {
     "base_uri": "https://localhost:8080/",
     "height": 35
    },
    "id": "ZYe3vqeQXznr",
    "outputId": "f7ab5ed6-8c5f-4521-8bf8-90e51818dfdc"
   },
   "outputs": [
    {
     "name": "stdout",
     "output_type": "stream",
     "text": [
      "18\n"
     ]
    }
   ],
   "source": [
    "# Equating or copying variables\n",
    "e = a\n",
    "print(e)"
   ]
  },
  {
   "cell_type": "code",
   "execution_count": null,
   "metadata": {
    "colab": {
     "base_uri": "https://localhost:8080/",
     "height": 156
    },
    "id": "jzgNJ_MLX8a3",
    "outputId": "4b31092d-d827-4e78-92fa-123150d2c309"
   },
   "outputs": [
    {
     "name": "stdout",
     "output_type": "stream",
     "text": [
      "1\n",
      "<class 'int'>\n",
      "5.0\n",
      "<class 'float'>\n",
      "True\n",
      "<class 'bool'>\n",
      "7\n",
      "<class 'str'>\n"
     ]
    }
   ],
   "source": [
    "# Types of Varaibles\n",
    "\n",
    "# Integer variable\n",
    "a = 1\n",
    "print(a)\n",
    "print(type(a))\n",
    "\n",
    "# Float variable (Non integer digits)\n",
    "a = 5.0\n",
    "print(a)\n",
    "print(type(a))\n",
    "\n",
    "# Boolean variable (True or False)\n",
    "a = True\n",
    "print(a)\n",
    "print(type(a))\n",
    "\n",
    "# Text variable also known as string variables\n",
    "a = \"7\" \n",
    "print(a)\n",
    "print(type(a))"
   ]
  },
  {
   "cell_type": "code",
   "execution_count": null,
   "metadata": {
    "colab": {
     "base_uri": "https://localhost:8080/",
     "height": 87
    },
    "id": "fzBecq7OYWl1",
    "outputId": "1f148cee-bcb0-4674-c170-4547f98eb3ab"
   },
   "outputs": [
    {
     "name": "stdout",
     "output_type": "stream",
     "text": [
      "19\n",
      "<class 'int'>\n",
      "12\n",
      "<class 'str'>\n"
     ]
    }
   ],
   "source": [
    "# Be careful with variable operations \n",
    "\n",
    "x = 15\n",
    "y = 4\n",
    "z = x + y\n",
    "print(z)\n",
    "print(type(z))\n",
    "\n",
    "# string variables\n",
    "x = \"1\"\n",
    "y = \"2\"\n",
    "z = x + y\n",
    "print(z)\n",
    "print(type(z))"
   ]
  },
  {
   "cell_type": "code",
   "execution_count": null,
   "metadata": {
    "id": "QZSoaBvAcpFL"
   },
   "outputs": [],
   "source": [
    "# Or dividing\n",
    "\n",
    "a = "
   ]
  },
  {
   "cell_type": "markdown",
   "metadata": {
    "id": "WDOkE_pGY8j_"
   },
   "source": [
    "### Array or List Variables\n",
    "**Arrays or Lists** are extremely useful in programming. Think of them as containers with different compartment, where each compartment stores another variable."
   ]
  },
  {
   "cell_type": "code",
   "execution_count": null,
   "metadata": {
    "colab": {
     "base_uri": "https://localhost:8080/",
     "height": 35
    },
    "id": "ePI9jV8gZP3Y",
    "outputId": "4b1e7497-664e-4f04-8127-08557b5c58c7"
   },
   "outputs": [
    {
     "name": "stdout",
     "output_type": "stream",
     "text": [
      "[1, 2, 3]\n"
     ]
    }
   ],
   "source": [
    "# A Simple array or integers\n",
    "a = [1,2,3]\n",
    "print(a)"
   ]
  },
  {
   "cell_type": "code",
   "execution_count": null,
   "metadata": {
    "colab": {
     "base_uri": "https://localhost:8080/",
     "height": 35
    },
    "id": "2CEfuPglZDex",
    "outputId": "90b8332a-5016-443d-85fc-6a35bf76f72b"
   },
   "outputs": [
    {
     "name": "stdout",
     "output_type": "stream",
     "text": [
      "['Text', 4, 2.5]\n"
     ]
    }
   ],
   "source": [
    "# Storing variables of different types is possible\n",
    "b =  [\"Text\", 4, 2.5]\n",
    "print(b)"
   ]
  },
  {
   "cell_type": "code",
   "execution_count": null,
   "metadata": {
    "colab": {
     "base_uri": "https://localhost:8080/",
     "height": 69
    },
    "id": "pYkAvDCSYuXy",
    "outputId": "e3fa2dc1-1105-44c1-f3a9-7f74aaa6e170"
   },
   "outputs": [
    {
     "name": "stdout",
     "output_type": "stream",
     "text": [
      "1\n",
      "2\n",
      "3\n"
     ]
    }
   ],
   "source": [
    "# Indexing Lists or accessing specific variables/locations in the list\n",
    "\n",
    "# How to print the first element?\n",
    "print(a[0])\n",
    "print(a[1])\n",
    "print(a[2])\n",
    "# Note lists always start at index or position 0, so a list that holds 3 numbers can be indexed with 0,1 & 2"
   ]
  },
  {
   "cell_type": "code",
   "execution_count": null,
   "metadata": {
    "colab": {
     "base_uri": "https://localhost:8080/",
     "height": 35
    },
    "id": "r2yL5VOMZ2xA",
    "outputId": "0a263286-c94e-4298-e206-6bb4ff7d6f73"
   },
   "outputs": [
    {
     "name": "stdout",
     "output_type": "stream",
     "text": [
      "[1, 2, 3, 4]\n"
     ]
    }
   ],
   "source": [
    "# Storing more elements onto your list using *apend*\n",
    "\n",
    "a.append(4)\n",
    "print(a)"
   ]
  },
  {
   "cell_type": "code",
   "execution_count": null,
   "metadata": {
    "colab": {
     "base_uri": "https://localhost:8080/",
     "height": 35
    },
    "id": "PkLqatC9Z9b1",
    "outputId": "45139962-327d-41d2-978b-8b7c42a5820b"
   },
   "outputs": [
    {
     "name": "stdout",
     "output_type": "stream",
     "text": [
      "4\n"
     ]
    }
   ],
   "source": [
    "# Getting our list length\n",
    "print(len(a))"
   ]
  },
  {
   "cell_type": "code",
   "execution_count": null,
   "metadata": {
    "colab": {
     "base_uri": "https://localhost:8080/",
     "height": 35
    },
    "id": "8YqFs7x7aFiJ",
    "outputId": "7f2fb3bc-accc-4be6-9035-096acb890536"
   },
   "outputs": [
    {
     "name": "stdout",
     "output_type": "stream",
     "text": [
      "[1, 2, 3, 5]\n"
     ]
    }
   ],
   "source": [
    "# Changing the value of an element in a list\n",
    "\n",
    "a[3] = 5\n",
    "print(a)"
   ]
  },
  {
   "cell_type": "code",
   "execution_count": null,
   "metadata": {
    "colab": {
     "base_uri": "https://localhost:8080/",
     "height": 87
    },
    "id": "ASXqbJojaNcI",
    "outputId": "42f89c55-0fab-4d6b-add1-b47f303d1fdf"
   },
   "outputs": [
    {
     "name": "stdout",
     "output_type": "stream",
     "text": [
      "All elelemts:  [1, 2, 3, 5]\n",
      "All elements from the 3rd position onward:  [3, 5]\n",
      "All elements between the 2nd and 4th position:  [2, 3]\n",
      "All eleements before the last postion [1, 2, 3]\n"
     ]
    }
   ],
   "source": [
    "# Slicing lists is a technique used to get elements from, before or between different indices\n",
    "\n",
    "print(\"All elelemts: \", a[:])\n",
    "print(\"All elements from the 3rd position onward: \", a[2:])\n",
    "print(\"All elements between the 2nd and 4th position: \", a[1:3])\n",
    "print(\"All elements before the last postion\", a[:-1])\n",
    "\n",
    "# Very useful guide:\n",
    "\n",
    "#a[start:stop]  # items start through stop-1\n",
    "#a[start:]      # items start through the rest of the array\n",
    "#a[:stop]       # items from the beginning through stop-1\n",
    "#a[:]           # a copy of the whole array"
   ]
  },
  {
   "cell_type": "markdown",
   "metadata": {
    "id": "X4TL4IY0dwpL"
   },
   "source": [
    "## Dictionaries, the other very useful data type\n",
    "**Dictionaries** are python objects that store **key:value** pairs of data."
   ]
  },
  {
   "cell_type": "code",
   "execution_count": null,
   "metadata": {
    "colab": {
     "base_uri": "https://localhost:8080/",
     "height": 69
    },
    "id": "QK9owVwta_vz",
    "outputId": "122092e0-a2dd-4a33-9acf-383b64733fc6"
   },
   "outputs": [
    {
     "name": "stdout",
     "output_type": "stream",
     "text": [
      "{'name': 'Japan', 'capital': 'Tokyo'}\n",
      "Japan\n",
      "Tokyo\n"
     ]
    }
   ],
   "source": [
    "# Creating a dictionary\n",
    "country_info = {\"name\": \"Japan\",\n",
    "        \"capital\": \"Tokyo\"}\n",
    "\n",
    "print(country_info)\n",
    "print(country_info[\"name\"])\n",
    "print(country_info[\"capital\"])"
   ]
  },
  {
   "cell_type": "code",
   "execution_count": null,
   "metadata": {
    "colab": {
     "base_uri": "https://localhost:8080/",
     "height": 35
    },
    "id": "D57XXUTFeoA2",
    "outputId": "c9a481ba-3839-4d8b-f923-4707d22d78c3"
   },
   "outputs": [
    {
     "name": "stdout",
     "output_type": "stream",
     "text": [
      "{'name': 'Japan', 'capital': 'Tokyo', 'population': '126.8M'}\n"
     ]
    }
   ],
   "source": [
    "# We can store multiple values and easily add information to our dictionary\n",
    "\n",
    "country_info['population'] = '126.8M'\n",
    "print(country_info)"
   ]
  },
  {
   "cell_type": "code",
   "execution_count": null,
   "metadata": {
    "colab": {
     "base_uri": "https://localhost:8080/",
     "height": 35
    },
    "id": "-YxNH48re-JW",
    "outputId": "941dc9dd-152a-44b5-e9a7-00450668c6f1"
   },
   "outputs": [
    {
     "name": "stdout",
     "output_type": "stream",
     "text": [
      "{'name': 'Japan', 'capital': 'Tokyo', 'population': '100M'}\n"
     ]
    }
   ],
   "source": [
    "# We can also change values easily\n",
    "\n",
    "country_info['population'] = '100M'\n",
    "print(country_info)"
   ]
  },
  {
   "cell_type": "code",
   "execution_count": null,
   "metadata": {
    "colab": {
     "base_uri": "https://localhost:8080/",
     "height": 55
    },
    "id": "EY0CFm0yfMhl",
    "outputId": "01925e70-fe8a-41ec-d204-834c819d65e7"
   },
   "outputs": [
    {
     "name": "stdout",
     "output_type": "stream",
     "text": [
      "{'name': 'Japan', 'capital': 'Tokyo', 'population': '100M', 'regions': ['Hokkaido', 'Tohoku', 'Kanto', 'Chubu', 'Kinki', 'Chugoku', 'Shikoku', 'Kyushu-Okinawa']}\n"
     ]
    }
   ],
   "source": [
    "# Values can be of any data type\n",
    "\n",
    "country_info['regions'] = ['Hokkaido', 'Tohoku', 'Kanto', 'Chubu', 'Kinki', 'Chugoku', 'Shikoku', 'Kyushu-Okinawa']\n",
    "print(country_info)"
   ]
  },
  {
   "cell_type": "code",
   "execution_count": null,
   "metadata": {
    "colab": {
     "base_uri": "https://localhost:8080/",
     "height": 55
    },
    "id": "AvpiV2SRftmu",
    "outputId": "125a9499-e0d1-4587-d35e-0cbe55a7d041"
   },
   "outputs": [
    {
     "name": "stdout",
     "output_type": "stream",
     "text": [
      "{'name': 'Japan', 'capital': 'Tokyo', 'population': '100M', 'regions': ['Hokkaido', 'Tohoku', 'Kanto', 'Chubu', 'Kinki', 'Chugoku', 'Shikoku', 'Kyushu-Okinawa'], 'health': {'life_expectancy': 84.1, 'birth_rate': 1.44}}\n"
     ]
    }
   ],
   "source": [
    "# Values can be of any data type - Even Dictionaries, these are called nested dictionaries\n",
    "\n",
    "country_info['health'] = {\"life_expectancy\": 84.1, \"birth_rate\": 1.44}\n",
    "print(country_info)"
   ]
  },
  {
   "cell_type": "code",
   "execution_count": null,
   "metadata": {
    "colab": {
     "base_uri": "https://localhost:8080/",
     "height": 201
    },
    "id": "TDCk7sg2dK1p",
    "outputId": "c808dbd2-d5be-494c-d548-f34cbcaeedbb"
   },
   "outputs": [
    {
     "ename": "NameError",
     "evalue": "ignored",
     "output_type": "error",
     "traceback": [
      "\u001b[0;31m---------------------------------------------------------------------------\u001b[0m",
      "\u001b[0;31mNameError\u001b[0m                                 Traceback (most recent call last)",
      "\u001b[0;32m<ipython-input-9-9509791c84d5>\u001b[0m in \u001b[0;36m<module>\u001b[0;34m()\u001b[0m\n\u001b[1;32m      1\u001b[0m \u001b[0;32mimport\u001b[0m \u001b[0mpprint\u001b[0m\u001b[0;34m\u001b[0m\u001b[0;34m\u001b[0m\u001b[0m\n\u001b[1;32m      2\u001b[0m \u001b[0;34m\u001b[0m\u001b[0m\n\u001b[0;32m----> 3\u001b[0;31m \u001b[0mpp\u001b[0m\u001b[0;34m.\u001b[0m\u001b[0mprint\u001b[0m\u001b[0;34m(\u001b[0m\u001b[0mcountry_info\u001b[0m\u001b[0;34m)\u001b[0m\u001b[0;34m\u001b[0m\u001b[0;34m\u001b[0m\u001b[0m\n\u001b[0m",
      "\u001b[0;31mNameError\u001b[0m: name 'pp' is not defined"
     ]
    }
   ],
   "source": [
    "import pprint\n",
    "\n",
    "pp.print(country_info)"
   ]
  },
  {
   "cell_type": "code",
   "execution_count": null,
   "metadata": {
    "colab": {
     "base_uri": "https://localhost:8080/",
     "height": 35
    },
    "id": "wYaLR6ALgnIq",
    "outputId": "ebdc1682-f223-4b06-ee35-a7ec19011dee"
   },
   "outputs": [
    {
     "data": {
      "text/plain": [
       "84.1"
      ]
     },
     "execution_count": 10,
     "metadata": {
      "tags": []
     },
     "output_type": "execute_result"
    }
   ],
   "source": [
    "# Accessing data in our nested dictionary\n",
    "\n",
    "country_info['health']['life_expectancy']"
   ]
  },
  {
   "cell_type": "code",
   "execution_count": null,
   "metadata": {
    "colab": {
     "base_uri": "https://localhost:8080/",
     "height": 55
    },
    "id": "J1xtocJrdsbj",
    "outputId": "e209aa89-be11-438e-d6a9-304166d255a1"
   },
   "outputs": [
    {
     "data": {
      "text/plain": [
       "dict_values(['Japan', 'Tokyo', '100M', ['Hokkaido', 'Tohoku', 'Kanto', 'Chubu', 'Kinki', 'Chugoku', 'Shikoku', 'Kyushu-Okinawa'], {'life_expectancy': 84.1, 'birth_rate': 1.44}])"
      ]
     },
     "execution_count": 13,
     "metadata": {
      "tags": []
     },
     "output_type": "execute_result"
    }
   ],
   "source": [
    "country_info.values()"
   ]
  },
  {
   "cell_type": "markdown",
   "metadata": {
    "id": "tBMyCaI4gzu9"
   },
   "source": [
    "# Conditional Statements - If & Else\n",
    "\n",
    "If statements will prove invaluable in programming when handling siutations where decisions need to be made"
   ]
  },
  {
   "cell_type": "code",
   "execution_count": null,
   "metadata": {
    "colab": {
     "base_uri": "https://localhost:8080/",
     "height": 35
    },
    "id": "p180-t79gtHU",
    "outputId": "3daf471a-df8f-4711-e61f-1fa803d62ba2"
   },
   "outputs": [
    {
     "name": "stdout",
     "output_type": "stream",
     "text": [
      "over 10\n"
     ]
    }
   ],
   "source": [
    "# Using the if statement\n",
    "\n",
    "x = 19\n",
    "\n",
    "if x < 10:\n",
    "    print(\"less than 10\")\n",
    "else:\n",
    "  print(\"over 10\")"
   ]
  },
  {
   "cell_type": "code",
   "execution_count": null,
   "metadata": {
    "colab": {
     "base_uri": "https://localhost:8080/",
     "height": 35
    },
    "id": "dFFVcDaAhuhn",
    "outputId": "3a298491-a4ec-4c29-82fb-5b7c4592c6bf"
   },
   "outputs": [
    {
     "name": "stdout",
     "output_type": "stream",
     "text": [
      "over 20\n"
     ]
    }
   ],
   "source": [
    "x = 29\n",
    "\n",
    "if x < 10:\n",
    "    print(\"less than 10\")\n",
    "elif x > 10 and x <= 19:\n",
    "    print(\"greater than zero but less than 10\")\n",
    "else:\n",
    "    print(\"over 20\")"
   ]
  },
  {
   "cell_type": "code",
   "execution_count": null,
   "metadata": {
    "colab": {
     "base_uri": "https://localhost:8080/",
     "height": 35
    },
    "id": "NQv4SZENhgLV",
    "outputId": "1cbdb2cb-ad55-4e76-dd4c-196a15d66fc1"
   },
   "outputs": [
    {
     "name": "stdout",
     "output_type": "stream",
     "text": [
      "statement was true\n"
     ]
    }
   ],
   "source": [
    "# Using booleans of conditional statements\n",
    "\n",
    "a = True\n",
    "if a:\n",
    "  print(\"statement was true\")"
   ]
  },
  {
   "cell_type": "markdown",
   "metadata": {
    "id": "kLg-FVSMiall"
   },
   "source": [
    "# Loops\n",
    "\n",
    "Loops are another invaluable tool in programming, let's look at a few ways we can implement loops in Python"
   ]
  },
  {
   "cell_type": "code",
   "execution_count": 1,
   "metadata": {
    "colab": {
     "base_uri": "https://localhost:8080/",
     "height": 52
    },
    "id": "ZZ5ogCPfiYI6",
    "outputId": "9d21413f-5ac1-467a-f1e0-9c531a72437b"
   },
   "outputs": [
    {
     "name": "stdout",
     "output_type": "stream",
     "text": [
      "[0, 1, 2, 3, 4]\n",
      "[1, 2, 3, 4, 5, 6, 7, 8, 9, 10, 11, 12, 13, 14, 15, 16, 17, 18, 19]\n"
     ]
    }
   ],
   "source": [
    "# Using the range function\n",
    "\n",
    "print(list(range(5)))\n",
    "\n",
    "# Or\n",
    "\n",
    "print(list(range(1,20)))"
   ]
  },
  {
   "cell_type": "code",
   "execution_count": 2,
   "metadata": {},
   "outputs": [
    {
     "ename": "NameError",
     "evalue": "name 'numbers' is not defined",
     "output_type": "error",
     "traceback": [
      "\u001b[1;31m---------------------------------------------------------------------------\u001b[0m",
      "\u001b[1;31mNameError\u001b[0m                                 Traceback (most recent call last)",
      "\u001b[1;32m<ipython-input-2-ea208eb0974b>\u001b[0m in \u001b[0;36m<module>\u001b[1;34m\u001b[0m\n\u001b[0;32m      1\u001b[0m \u001b[1;31m# Get all the even numbers\u001b[0m\u001b[1;33m\u001b[0m\u001b[1;33m\u001b[0m\u001b[1;33m\u001b[0m\u001b[0m\n\u001b[1;32m----> 2\u001b[1;33m \u001b[1;32mfor\u001b[0m \u001b[0mnum\u001b[0m \u001b[1;32min\u001b[0m \u001b[0mnumbers\u001b[0m\u001b[1;33m:\u001b[0m\u001b[1;33m\u001b[0m\u001b[1;33m\u001b[0m\u001b[0m\n\u001b[0m\u001b[0;32m      3\u001b[0m     \u001b[1;32mif\u001b[0m \u001b[0mnum\u001b[0m \u001b[1;33m%\u001b[0m \u001b[1;36m2\u001b[0m \u001b[1;33m!=\u001b[0m \u001b[1;36m1\u001b[0m\u001b[1;33m:\u001b[0m\u001b[1;33m\u001b[0m\u001b[1;33m\u001b[0m\u001b[0m\n\u001b[0;32m      4\u001b[0m         \u001b[0mprint\u001b[0m\u001b[1;33m(\u001b[0m\u001b[0mnum\u001b[0m\u001b[1;33m)\u001b[0m\u001b[1;33m\u001b[0m\u001b[1;33m\u001b[0m\u001b[0m\n",
      "\u001b[1;31mNameError\u001b[0m: name 'numbers' is not defined"
     ]
    }
   ],
   "source": [
    "# Get all the even numbers\n",
    "for num in numbers:\n",
    "    if num % 2 != 1:\n",
    "        print(num)"
   ]
  },
  {
   "cell_type": "code",
   "execution_count": 3,
   "metadata": {},
   "outputs": [
    {
     "ename": "NameError",
     "evalue": "name 'numbers' is not defined",
     "output_type": "error",
     "traceback": [
      "\u001b[1;31m---------------------------------------------------------------------------\u001b[0m",
      "\u001b[1;31mNameError\u001b[0m                                 Traceback (most recent call last)",
      "\u001b[1;32m<ipython-input-3-e6c72bb57459>\u001b[0m in \u001b[0;36m<module>\u001b[1;34m\u001b[0m\n\u001b[0;32m      1\u001b[0m \u001b[1;31m# Using all the even numbers\u001b[0m\u001b[1;33m\u001b[0m\u001b[1;33m\u001b[0m\u001b[1;33m\u001b[0m\u001b[0m\n\u001b[1;32m----> 2\u001b[1;33m \u001b[1;32mfor\u001b[0m \u001b[0mnum\u001b[0m \u001b[1;32min\u001b[0m \u001b[0mnumbers\u001b[0m\u001b[1;33m:\u001b[0m\u001b[1;33m\u001b[0m\u001b[1;33m\u001b[0m\u001b[0m\n\u001b[0m\u001b[0;32m      3\u001b[0m     \u001b[1;32mif\u001b[0m \u001b[0mnum\u001b[0m \u001b[1;33m%\u001b[0m \u001b[1;36m2\u001b[0m \u001b[1;33m==\u001b[0m \u001b[1;36m1\u001b[0m\u001b[1;33m:\u001b[0m\u001b[1;33m\u001b[0m\u001b[1;33m\u001b[0m\u001b[0m\n\u001b[0;32m      4\u001b[0m         \u001b[0mprint\u001b[0m\u001b[1;33m(\u001b[0m\u001b[0mnum\u001b[0m\u001b[1;33m)\u001b[0m\u001b[1;33m\u001b[0m\u001b[1;33m\u001b[0m\u001b[0m\n",
      "\u001b[1;31mNameError\u001b[0m: name 'numbers' is not defined"
     ]
    }
   ],
   "source": [
    "# Using all the even numbers\n",
    "for num in numbers:\n",
    "    if num % 2 == 1:\n",
    "        print(num)"
   ]
  },
  {
   "cell_type": "code",
   "execution_count": null,
   "metadata": {
    "colab": {
     "base_uri": "https://localhost:8080/",
     "height": 104
    },
    "id": "JBU80c3oipiM",
    "outputId": "13969745-760c-41e0-ab6d-1199ccef00ad"
   },
   "outputs": [
    {
     "name": "stdout",
     "output_type": "stream",
     "text": [
      "0\n",
      "1\n",
      "2\n",
      "3\n",
      "4\n"
     ]
    }
   ],
   "source": [
    "for i in range(0,5):\n",
    "  print(i)"
   ]
  },
  {
   "cell_type": "code",
   "execution_count": 6,
   "metadata": {},
   "outputs": [
    {
     "name": "stdout",
     "output_type": "stream",
     "text": [
      "[1, 2, 3, 4, 5, 6, 7, 8, 9, 10, 11, 12, 13, 14, 15, 16, 17, 18, 19]\n"
     ]
    }
   ],
   "source": [
    "numbers = list(range(1,20))\n",
    "print(numbers)"
   ]
  },
  {
   "cell_type": "code",
   "execution_count": 7,
   "metadata": {},
   "outputs": [
    {
     "name": "stdout",
     "output_type": "stream",
     "text": [
      "[1]\n",
      "\n",
      "[1]\n",
      "[1, 3]\n",
      "\n",
      "[1, 3]\n",
      "[1, 3, 5]\n",
      "\n",
      "[1, 3, 5]\n",
      "[1, 3, 5, 7]\n",
      "\n",
      "[1, 3, 5, 7]\n",
      "[1, 3, 5, 7, 9]\n",
      "\n",
      "[1, 3, 5, 7, 9]\n",
      "[1, 3, 5, 7, 9, 11]\n",
      "\n",
      "[1, 3, 5, 7, 9, 11]\n",
      "[1, 3, 5, 7, 9, 11, 13]\n",
      "\n",
      "[1, 3, 5, 7, 9, 11, 13]\n",
      "[1, 3, 5, 7, 9, 11, 13, 15]\n",
      "\n",
      "[1, 3, 5, 7, 9, 11, 13, 15]\n",
      "[1, 3, 5, 7, 9, 11, 13, 15, 17]\n",
      "\n",
      "[1, 3, 5, 7, 9, 11, 13, 15, 17]\n",
      "[1, 3, 5, 7, 9, 11, 13, 15, 17, 19]\n",
      "\n",
      "[1, 3, 5, 7, 9, 11, 13, 15, 17, 19]\n"
     ]
    }
   ],
   "source": [
    "# get all the even numbers\n",
    "odd_numbers = []\n",
    "for num in numbers:\n",
    "    if num % 2 == 1:\n",
    "        odd_numbers.append(num)\n",
    "        print(odd_numbers)\n",
    "        print()\n",
    "        print(odd_numbers)"
   ]
  },
  {
   "cell_type": "code",
   "execution_count": null,
   "metadata": {
    "colab": {
     "base_uri": "https://localhost:8080/",
     "height": 87
    },
    "id": "5M3Hw2J_i9Rr",
    "outputId": "1955e678-c208-4a9f-8c40-74df2b1c1c02"
   },
   "outputs": [
    {
     "name": "stdout",
     "output_type": "stream",
     "text": [
      "a\n",
      "b\n",
      "c\n",
      "d\n"
     ]
    }
   ],
   "source": [
    "# Python allows us to directly loop through items in a list\n",
    "\n",
    "items = ['a','b', 'c', 'd']\n",
    "for item in items:\n",
    "  print(item)"
   ]
  },
  {
   "cell_type": "code",
   "execution_count": null,
   "metadata": {
    "colab": {
     "base_uri": "https://localhost:8080/",
     "height": 104
    },
    "id": "RLmP9dWPjpho",
    "outputId": "31d489d4-a4c9-4224-b5af-7453cf8a904d"
   },
   "outputs": [
    {
     "name": "stdout",
     "output_type": "stream",
     "text": [
      "1 a\n",
      "2 b\n",
      "3 c\n",
      "4 d\n",
      "[1, 2, 3, 4]\n"
     ]
    }
   ],
   "source": [
    "# Incrementing variables in loops and storing them in a list\n",
    "\n",
    "x = 0\n",
    "collecting_values_of_x = []\n",
    "\n",
    "items = ['a','b', 'c', 'd']\n",
    "for item in items:\n",
    "  x += 1\n",
    "  print(x, item)\n",
    "  collecting_values_of_x.append(x)\n",
    "\n",
    "print(collecting_values_of_x)"
   ]
  },
  {
   "cell_type": "code",
   "execution_count": null,
   "metadata": {
    "colab": {
     "base_uri": "https://localhost:8080/",
     "height": 104
    },
    "id": "m7PHFl_9jZOY",
    "outputId": "1800e736-e119-4ee0-9c36-7ade998584a6"
   },
   "outputs": [
    {
     "name": "stdout",
     "output_type": "stream",
     "text": [
      "1\n",
      "2\n",
      "3\n",
      "4\n",
      "5\n"
     ]
    }
   ],
   "source": [
    "# While loops\n",
    "\n",
    "x = 0\n",
    "while x < 5:\n",
    "    x += 1\n",
    "    print(x)"
   ]
  },
  {
   "cell_type": "code",
   "execution_count": null,
   "metadata": {
    "colab": {
     "base_uri": "https://localhost:8080/",
     "height": 104
    },
    "id": "QV9S4x-xkEWW",
    "outputId": "a08d82eb-375c-46ea-ed2c-da2302c0686d"
   },
   "outputs": [
    {
     "name": "stdout",
     "output_type": "stream",
     "text": [
      "1\n",
      "2\n",
      "3\n",
      "4\n",
      "5\n"
     ]
    }
   ],
   "source": [
    "# While loops\n",
    "\n",
    "x = 0\n",
    "while True:\n",
    "    if x == 5:\n",
    "      break\n",
    "    x += 1\n",
    "    print(x)"
   ]
  },
  {
   "cell_type": "markdown",
   "metadata": {
    "id": "x7i46vgQkvJs"
   },
   "source": [
    "# Functions\n",
    "\n",
    "Functions are extremely useful in creating peices of code you want to call or use several times in our program."
   ]
  },
  {
   "cell_type": "code",
   "execution_count": null,
   "metadata": {
    "id": "Jt_UfXekkVBG"
   },
   "outputs": [],
   "source": [
    "# Simple function to return area of a circle\n",
    "\n",
    "def areaCircle(radius):\n",
    "  area = 3.14 * (radius**2)\n",
    "  return area\n"
   ]
  },
  {
   "cell_type": "code",
   "execution_count": null,
   "metadata": {
    "colab": {
     "base_uri": "https://localhost:8080/",
     "height": 35
    },
    "id": "GLyvb1VplEDr",
    "outputId": "864e072a-9e02-4bce-af2d-f3dfd4308cf5"
   },
   "outputs": [
    {
     "data": {
      "text/plain": [
       "12.56"
      ]
     },
     "execution_count": 63,
     "metadata": {
      "tags": []
     },
     "output_type": "execute_result"
    }
   ],
   "source": [
    "areaCircle(2)"
   ]
  },
  {
   "cell_type": "code",
   "execution_count": null,
   "metadata": {
    "id": "QtzNLj7FlFz4"
   },
   "outputs": [],
   "source": [
    "# More complicated functions\n",
    "\n",
    "def volumeCylinder(radius, height):\n",
    "  volume = 3.14 * radius**2 * height\n",
    "  return volume"
   ]
  },
  {
   "cell_type": "code",
   "execution_count": null,
   "metadata": {
    "colab": {
     "base_uri": "https://localhost:8080/",
     "height": 35
    },
    "id": "OGYfKiqdv-Ma",
    "outputId": "fa789fec-9dc1-47bb-f8c7-e0461fe7e646"
   },
   "outputs": [
    {
     "data": {
      "text/plain": [
       "471.0"
      ]
     },
     "execution_count": 71,
     "metadata": {
      "tags": []
     },
     "output_type": "execute_result"
    }
   ],
   "source": [
    "volumeCylinder(radius = 5, height = 6)"
   ]
  },
  {
   "cell_type": "code",
   "execution_count": null,
   "metadata": {
    "id": "swh6MO3plI0b"
   },
   "outputs": [],
   "source": [
    "# Default arguements\n",
    "\n",
    "def areaCircle(radius):\n",
    "  area = 3.14 * (radius**2)\n",
    "  return area"
   ]
  },
  {
   "cell_type": "code",
   "execution_count": null,
   "metadata": {
    "id": "mcvf8QWQog50"
   },
   "outputs": [],
   "source": [
    "# Creating a class\n",
    "class Book(object):\n",
    "    \"\"\"Class object for a book\"\"\"\n",
    "  \n",
    "    def __init__(self, title, author):\n",
    "        \"\"\"Initialize a new Book\"\"\"\n",
    "        self.title = title\n",
    "        self.author = authorti"
   ]
  }
 ],
 "metadata": {
  "colab": {
   "name": "Lesson 1: Python for Beginners.ipynb",
   "provenance": []
  },
  "kernelspec": {
   "display_name": "Python 3",
   "language": "python",
   "name": "python3"
  },
  "language_info": {
   "codemirror_mode": {
    "name": "ipython",
    "version": 3
   },
   "file_extension": ".py",
   "mimetype": "text/x-python",
   "name": "python",
   "nbconvert_exporter": "python",
   "pygments_lexer": "ipython3",
   "version": "3.7.4"
  }
 },
 "nbformat": 4,
 "nbformat_minor": 4
}
